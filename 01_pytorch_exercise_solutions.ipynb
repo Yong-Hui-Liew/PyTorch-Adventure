{
  "nbformat": 4,
  "nbformat_minor": 0,
  "metadata": {
    "colab": {
      "provenance": [],
      "authorship_tag": "ABX9TyNLrx4hMmiCMcpqkCFtVY39",
      "include_colab_link": true
    },
    "kernelspec": {
      "name": "python3",
      "display_name": "Python 3"
    },
    "language_info": {
      "name": "python"
    }
  },
  "cells": [
    {
      "cell_type": "markdown",
      "metadata": {
        "id": "view-in-github",
        "colab_type": "text"
      },
      "source": [
        "<a href=\"https://colab.research.google.com/github/Yong-Hui-Liew/PyTorch-Adventure/blob/main/01_pytorch_exercise_solutions.ipynb\" target=\"_parent\"><img src=\"https://colab.research.google.com/assets/colab-badge.svg\" alt=\"Open In Colab\"/></a>"
      ]
    },
    {
      "cell_type": "code",
      "source": [
        "import torch\n",
        "import torch.nn as nn\n",
        "import matplotlib.pyplot as plt"
      ],
      "metadata": {
        "id": "hgxDjzcQnV4q"
      },
      "execution_count": 26,
      "outputs": []
    },
    {
      "cell_type": "markdown",
      "source": [
        "### 1. Create a straight line dataset using the linear regression formula (weight * X + bias).\n",
        "* Set weight=0.3 and bias=0.9 there should be at least 100 datapoints total.\n",
        "* Split the data into 80% training, 20% testing.\n",
        "* Plot the training and testing data so it becomes visual."
      ],
      "metadata": {
        "id": "weHEnPjAQmjF"
      }
    },
    {
      "cell_type": "code",
      "source": [
        "weight = 0.3\n",
        "bias = 0.9\n",
        "X = torch.arange(start=0, end=10, step=0.1).unsqueeze(dim=1)\n",
        "y = weight * X + bias\n",
        "train_split = int(0.8 * len(X))\n",
        "X_train, y_train, X_test, y_test = X[:train_split], y[:train_split], X[train_split:], y[train_split:]\n",
        "\n",
        "def plot_predictions(train_data=X_train,\n",
        "                     train_labels=y_train,\n",
        "                     test_data=X_test,\n",
        "                     test_labels=y_test,\n",
        "                     predictions=None):\n",
        "  \"\"\"\n",
        "  Plots training data, test data and compares predictions.\n",
        "  \"\"\"\n",
        "  plt.figure(figsize=(10,7))\n",
        "\n",
        "  # Plot training data in blue\n",
        "  plt.scatter(train_data, train_labels, c=\"b\", s=4, label=\"Training data\")\n",
        "\n",
        "  # Plot test data in green\n",
        "  plt.scatter(test_data, test_labels, c=\"g\", s=4, label=\"Testing data\")\n",
        "\n",
        "  # Are there predictions?\n",
        "  if predictions is not None:\n",
        "    # Plot the predictions if they exist\n",
        "    plt.scatter(test_data, predictions, c=\"r\", s=4, label=\"Predictions\")\n",
        "\n",
        "  # Show the legend\n",
        "  plt.legend(prop={\"size\":14})\n",
        "\n",
        "plot_predictions()"
      ],
      "metadata": {
        "colab": {
          "base_uri": "https://localhost:8080/",
          "height": 479
        },
        "id": "3vgIV1-qnToD",
        "outputId": "ac1e7c6a-1fb4-4be5-bd86-8c4626cd2100"
      },
      "execution_count": 27,
      "outputs": [
        {
          "output_type": "display_data",
          "data": {
            "text/plain": [
              "<Figure size 1000x700 with 1 Axes>"
            ],
            "image/png": "[encoded data removed]"
          },
          "metadata": {}
        }
      ]
    },
    {
      "cell_type": "markdown",
      "source": [
        "## 2. Build a PyTorch model by subclassing `nn.Module`.\n",
        "* Inside should be a randomly initialized nn.Parameter() with requires_grad=True, one for weights and one for bias.\n",
        "* Implement the forward() method to compute the linear regression function you used to create the dataset in 1.\n",
        "* Once you've constructed the model, make an instance of it and check its state_dict().\n",
        "***Note:** If you'd like to use nn.Linear() instead of nn.Parameter() you can."
      ],
      "metadata": {
        "id": "j4EdC266osxu"
      }
    },
    {
      "cell_type": "code",
      "source": [
        "class LinearRegressionModel(nn.Module):\n",
        "  def __init__(self):\n",
        "    super().__init__()\n",
        "    self.linear_layer = nn.Linear(in_features=1,\n",
        "                    out_features=1)\n",
        "\n",
        "  def forward(self, x:torch.Tensor)->torch.Tensor:\n",
        "    return self.linear_layer(x)\n",
        "\n",
        "torch.manual_seed(42)\n",
        "model_0 = LinearRegressionModel()\n",
        "model_0.state_dict()"
      ],
      "metadata": {
        "colab": {
          "base_uri": "https://localhost:8080/"
        },
        "id": "FlBGlFxvpTwL",
        "outputId": "b3309483-9d1a-414f-c1cb-e9666f21befe"
      },
      "execution_count": 28,
      "outputs": [
        {
          "output_type": "execute_result",
          "data": {
            "text/plain": [
              "OrderedDict([('linear_layer.weight', tensor([[0.7645]])),\n",
              "             ('linear_layer.bias', tensor([0.8300]))])"
            ]
          },
          "metadata": {},
          "execution_count": 28
        }
      ]
    },
    {
      "cell_type": "markdown",
      "source": [
        "## 3. Create a loss function and optimizer using `nn.L1Loss()` and `torch.optim.SGD(params, lr)` respectively.\n",
        "* Set the learning rate of the optimizer to be 0.01 and the parameters to optimize should be the model parameters from the model you created in 2.\n",
        "* Write a training loop to perform the appropriate training steps for 300 epochs.\n",
        "* The training loop should test the model on the test dataset every 20 epochs."
      ],
      "metadata": {
        "id": "NyvQmZ7Uq8Dg"
      }
    },
    {
      "cell_type": "code",
      "source": [
        "loss_fn = nn.L1Loss()\n",
        "optimizer = torch.optim.SGD(params=model_0.parameters(),\n",
        "                            lr=0.01)\n",
        "\n",
        "epochs = 300\n",
        "\n",
        "for epoch in range(epochs):\n",
        "  model_0.train()\n",
        "  y_pred = model_0(X_train)\n",
        "  loss = loss_fn(y_pred, y_train)\n",
        "  optimizer.zero_grad()\n",
        "  loss.backward()\n",
        "  optimizer.step()\n",
        "\n",
        "  if epoch % 20 == 0:\n",
        "    model_0.eval()\n",
        "    with torch.inference_mode():\n",
        "      test_pred = model_0(X_test)\n",
        "      test_loss = loss_fn(test_pred, y_test)\n",
        "\n",
        "    print(f\"Epoch:{epoch} | loss:{loss} | test_loss:{test_loss}\")\n",
        ""
      ],
      "metadata": {
        "colab": {
          "base_uri": "https://localhost:8080/"
        },
        "id": "lT2c7sQdrBAy",
        "outputId": "09cc5487-85cd-4a71-9cbd-fa0ba88eaefe"
      },
      "execution_count": 29,
      "outputs": [
        {
          "output_type": "stream",
          "name": "stdout",
          "text": [
            "Epoch:0 | loss:1.7672735452651978 | test_loss:3.7248260974884033\n",
            "Epoch:20 | loss:0.07500676810741425 | test_loss:0.3603351414203644\n",
            "Epoch:40 | loss:0.08991314470767975 | test_loss:0.26105359196662903\n",
            "Epoch:60 | loss:0.025813329964876175 | test_loss:0.36515316367149353\n",
            "Epoch:80 | loss:0.037320829927921295 | test_loss:0.3143957257270813\n",
            "Epoch:100 | loss:0.021646490320563316 | test_loss:0.3375694155693054\n",
            "Epoch:120 | loss:0.01556048821657896 | test_loss:0.3450304865837097\n",
            "Epoch:140 | loss:0.013060671277344227 | test_loss:0.3475303053855896\n",
            "Epoch:160 | loss:0.012310720048844814 | test_loss:0.3482802212238312\n",
            "Epoch:180 | loss:0.012310720048844814 | test_loss:0.3482802212238312\n",
            "Epoch:200 | loss:0.012310720048844814 | test_loss:0.3482802212238312\n",
            "Epoch:220 | loss:0.012310720048844814 | test_loss:0.3482802212238312\n",
            "Epoch:240 | loss:0.012310720048844814 | test_loss:0.3482802212238312\n",
            "Epoch:260 | loss:0.012310720048844814 | test_loss:0.3482802212238312\n",
            "Epoch:280 | loss:0.012310720048844814 | test_loss:0.3482802212238312\n"
          ]
        }
      ]
    },
    {
      "cell_type": "markdown",
      "source": [
        "## 4. Make predictions with the trained model on the test data.\n",
        "* Visualize these predictions against the original training and testing data (note: you may need to make sure the predictions are not on the GPU if you want to use non-CUDA-enabled libraries such as matplotlib to plot)."
      ],
      "metadata": {
        "id": "46_96-i6umuk"
      }
    },
    {
      "cell_type": "code",
      "source": [
        "with torch.inference_mode():\n",
        "  y_pred = model_0(X_test)\n",
        "plot_predictions(predictions=y_pred)"
      ],
      "metadata": {
        "colab": {
          "base_uri": "https://localhost:8080/",
          "height": 479
        },
        "id": "cqcsaRYhusXM",
        "outputId": "9ecd4d63-4672-44dd-94e6-c48fd73a5fb6"
      },
      "execution_count": 36,
      "outputs": [
        {
          "output_type": "display_data",
          "data": {
            "text/plain": [
              "<Figure size 1000x700 with 1 Axes>"
            ],
            "image/png": "[encoded data removed]"
          },
          "metadata": {}
        }
      ]
    },
    {
      "cell_type": "markdown",
      "source": [
        "## 5. Save your trained model's `state_dict()` to file.\n",
        "* Create a new instance of your model class you made in 2. and load in the state_dict() you just saved to it.\n",
        "* Perform predictions on your test data with the loaded model and confirm they match the original model predictions from 4."
      ],
      "metadata": {
        "id": "2RP5pUvmv1bU"
      }
    },
    {
      "cell_type": "code",
      "source": [
        "from pathlib import Path\n",
        "MODEL_PATH = Path(\"model\")\n",
        "MODEL_PATH.mkdir(parents=True, exist_ok=True)\n",
        "\n",
        "MODEL_NAME = \"01_pytorch_exercise_model_1.pth\"\n",
        "MODEL_PATH_NAME = MODEL_PATH / MODEL_NAME\n",
        "\n",
        "torch.save(obj=model_0.state_dict(),\n",
        "           f=MODEL_PATH_NAME)"
      ],
      "metadata": {
        "id": "6sgH8jc_wDIA"
      },
      "execution_count": 41,
      "outputs": []
    },
    {
      "cell_type": "code",
      "source": [
        "loaded_model = LinearRegressionModel()\n",
        "loaded_model.load_state_dict(torch.load(MODEL_PATH_NAME))\n",
        "\n",
        "with torch.inference_mode():\n",
        "  loaded_pred = loaded_model(X_test)\n",
        "\n",
        "loaded_pred, y_pred"
      ],
      "metadata": {
        "colab": {
          "base_uri": "https://localhost:8080/"
        },
        "id": "_xgQxk8Oxt3J",
        "outputId": "c9ca8abe-6f0e-4313-be61-aa9e43efc9f8"
      },
      "execution_count": 48,
      "outputs": [
        {
          "output_type": "execute_result",
          "data": {
            "text/plain": [
              "(tensor([[3.2853],\n",
              "         [3.3153],\n",
              "         [3.3452],\n",
              "         [3.3751],\n",
              "         [3.4051],\n",
              "         [3.4350],\n",
              "         [3.4650],\n",
              "         [3.4949],\n",
              "         [3.5248],\n",
              "         [3.5548],\n",
              "         [3.5847],\n",
              "         [3.6147],\n",
              "         [3.6446],\n",
              "         [3.6746],\n",
              "         [3.7045],\n",
              "         [3.7344],\n",
              "         [3.7644],\n",
              "         [3.7943],\n",
              "         [3.8243],\n",
              "         [3.8542]]),\n",
              " tensor([[3.2853],\n",
              "         [3.3153],\n",
              "         [3.3452],\n",
              "         [3.3751],\n",
              "         [3.4051],\n",
              "         [3.4350],\n",
              "         [3.4650],\n",
              "         [3.4949],\n",
              "         [3.5248],\n",
              "         [3.5548],\n",
              "         [3.5847],\n",
              "         [3.6147],\n",
              "         [3.6446],\n",
              "         [3.6746],\n",
              "         [3.7045],\n",
              "         [3.7344],\n",
              "         [3.7644],\n",
              "         [3.7943],\n",
              "         [3.8243],\n",
              "         [3.8542]]))"
            ]
          },
          "metadata": {},
          "execution_count": 48
        }
      ]
    }
  ]
}