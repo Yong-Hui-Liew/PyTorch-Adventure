{
  "nbformat": 4,
  "nbformat_minor": 0,
  "metadata": {
    "colab": {
      "provenance": [],
      "authorship_tag": "ABX9TyPDAZrK4DqNEKBB1yz0Z1kN",
      "include_colab_link": true
    },
    "kernelspec": {
      "name": "python3",
      "display_name": "Python 3"
    },
    "language_info": {
      "name": "python"
    },
    "widgets": {
      "application/vnd.jupyter.widget-state+json": {
        "b3000b924d3248629647d1430d249e05": {
          "model_module": "@jupyter-widgets/controls",
          "model_name": "HBoxModel",
          "model_module_version": "1.5.0",
          "state": {
            "_dom_classes": [],
            "_model_module": "@jupyter-widgets/controls",
            "_model_module_version": "1.5.0",
            "_model_name": "HBoxModel",
            "_view_count": null,
            "_view_module": "@jupyter-widgets/controls",
            "_view_module_version": "1.5.0",
            "_view_name": "HBoxView",
            "box_style": "",
            "children": [
              "IPY_MODEL_2dedb64e758d40a5b2fc67a52e22aead",
              "IPY_MODEL_831f36cac1bc4610bed514464a52277c",
              "IPY_MODEL_4dd68d65c613458a92185e343870f693"
            ],
            "layout": "IPY_MODEL_c63d0b25b14c4bccae92d748a92d6810"
          }
        },
        "2dedb64e758d40a5b2fc67a52e22aead": {
          "model_module": "@jupyter-widgets/controls",
          "model_name": "HTMLModel",
          "model_module_version": "1.5.0",
          "state": {
            "_dom_classes": [],
            "_model_module": "@jupyter-widgets/controls",
            "_model_module_version": "1.5.0",
            "_model_name": "HTMLModel",
            "_view_count": null,
            "_view_module": "@jupyter-widgets/controls",
            "_view_module_version": "1.5.0",
            "_view_name": "HTMLView",
            "description": "",
            "description_tooltip": null,
            "layout": "IPY_MODEL_956e2d1102b44c4780d0c2912678372d",
            "placeholder": "​",
            "style": "IPY_MODEL_13dce316215d47568ba7d2e2f8a8c119",
            "value": "100%"
          }
        },
        "831f36cac1bc4610bed514464a52277c": {
          "model_module": "@jupyter-widgets/controls",
          "model_name": "FloatProgressModel",
          "model_module_version": "1.5.0",
          "state": {
            "_dom_classes": [],
            "_model_module": "@jupyter-widgets/controls",
            "_model_module_version": "1.5.0",
            "_model_name": "FloatProgressModel",
            "_view_count": null,
            "_view_module": "@jupyter-widgets/controls",
            "_view_module_version": "1.5.0",
            "_view_name": "ProgressView",
            "bar_style": "success",
            "description": "",
            "description_tooltip": null,
            "layout": "IPY_MODEL_6cd3b5c658374abe82a01560346d6ebf",
            "max": 50,
            "min": 0,
            "orientation": "horizontal",
            "style": "IPY_MODEL_ce6b732a71af472d93fff0c5662551de",
            "value": 50
          }
        },
        "4dd68d65c613458a92185e343870f693": {
          "model_module": "@jupyter-widgets/controls",
          "model_name": "HTMLModel",
          "model_module_version": "1.5.0",
          "state": {
            "_dom_classes": [],
            "_model_module": "@jupyter-widgets/controls",
            "_model_module_version": "1.5.0",
            "_model_name": "HTMLModel",
            "_view_count": null,
            "_view_module": "@jupyter-widgets/controls",
            "_view_module_version": "1.5.0",
            "_view_name": "HTMLView",
            "description": "",
            "description_tooltip": null,
            "layout": "IPY_MODEL_e8e2010cf2b448f0a978b1d77bf6aa5e",
            "placeholder": "​",
            "style": "IPY_MODEL_01b8d58bcf1d4321890c40ecc5471a58",
            "value": " 50/50 [01:52&lt;00:00,  3.84s/it]"
          }
        },
        "c63d0b25b14c4bccae92d748a92d6810": {
          "model_module": "@jupyter-widgets/base",
          "model_name": "LayoutModel",
          "model_module_version": "1.2.0",
          "state": {
            "_model_module": "@jupyter-widgets/base",
            "_model_module_version": "1.2.0",
            "_model_name": "LayoutModel",
            "_view_count": null,
            "_view_module": "@jupyter-widgets/base",
            "_view_module_version": "1.2.0",
            "_view_name": "LayoutView",
            "align_content": null,
            "align_items": null,
            "align_self": null,
            "border": null,
            "bottom": null,
            "display": null,
            "flex": null,
            "flex_flow": null,
            "grid_area": null,
            "grid_auto_columns": null,
            "grid_auto_flow": null,
            "grid_auto_rows": null,
            "grid_column": null,
            "grid_gap": null,
            "grid_row": null,
            "grid_template_areas": null,
            "grid_template_columns": null,
            "grid_template_rows": null,
            "height": null,
            "justify_content": null,
            "justify_items": null,
            "left": null,
            "margin": null,
            "max_height": null,
            "max_width": null,
            "min_height": null,
            "min_width": null,
            "object_fit": null,
            "object_position": null,
            "order": null,
            "overflow": null,
            "overflow_x": null,
            "overflow_y": null,
            "padding": null,
            "right": null,
            "top": null,
            "visibility": null,
            "width": null
          }
        },
        "956e2d1102b44c4780d0c2912678372d": {
          "model_module": "@jupyter-widgets/base",
          "model_name": "LayoutModel",
          "model_module_version": "1.2.0",
          "state": {
            "_model_module": "@jupyter-widgets/base",
            "_model_module_version": "1.2.0",
            "_model_name": "LayoutModel",
            "_view_count": null,
            "_view_module": "@jupyter-widgets/base",
            "_view_module_version": "1.2.0",
            "_view_name": "LayoutView",
            "align_content": null,
            "align_items": null,
            "align_self": null,
            "border": null,
            "bottom": null,
            "display": null,
            "flex": null,
            "flex_flow": null,
            "grid_area": null,
            "grid_auto_columns": null,
            "grid_auto_flow": null,
            "grid_auto_rows": null,
            "grid_column": null,
            "grid_gap": null,
            "grid_row": null,
            "grid_template_areas": null,
            "grid_template_columns": null,
            "grid_template_rows": null,
            "height": null,
            "justify_content": null,
            "justify_items": null,
            "left": null,
            "margin": null,
            "max_height": null,
            "max_width": null,
            "min_height": null,
            "min_width": null,
            "object_fit": null,
            "object_position": null,
            "order": null,
            "overflow": null,
            "overflow_x": null,
            "overflow_y": null,
            "padding": null,
            "right": null,
            "top": null,
            "visibility": null,
            "width": null
          }
        },
        "13dce316215d47568ba7d2e2f8a8c119": {
          "model_module": "@jupyter-widgets/controls",
          "model_name": "DescriptionStyleModel",
          "model_module_version": "1.5.0",
          "state": {
            "_model_module": "@jupyter-widgets/controls",
            "_model_module_version": "1.5.0",
            "_model_name": "DescriptionStyleModel",
            "_view_count": null,
            "_view_module": "@jupyter-widgets/base",
            "_view_module_version": "1.2.0",
            "_view_name": "StyleView",
            "description_width": ""
          }
        },
        "6cd3b5c658374abe82a01560346d6ebf": {
          "model_module": "@jupyter-widgets/base",
          "model_name": "LayoutModel",
          "model_module_version": "1.2.0",
          "state": {
            "_model_module": "@jupyter-widgets/base",
            "_model_module_version": "1.2.0",
            "_model_name": "LayoutModel",
            "_view_count": null,
            "_view_module": "@jupyter-widgets/base",
            "_view_module_version": "1.2.0",
            "_view_name": "LayoutView",
            "align_content": null,
            "align_items": null,
            "align_self": null,
            "border": null,
            "bottom": null,
            "display": null,
            "flex": null,
            "flex_flow": null,
            "grid_area": null,
            "grid_auto_columns": null,
            "grid_auto_flow": null,
            "grid_auto_rows": null,
            "grid_column": null,
            "grid_gap": null,
            "grid_row": null,
            "grid_template_areas": null,
            "grid_template_columns": null,
            "grid_template_rows": null,
            "height": null,
            "justify_content": null,
            "justify_items": null,
            "left": null,
            "margin": null,
            "max_height": null,
            "max_width": null,
            "min_height": null,
            "min_width": null,
            "object_fit": null,
            "object_position": null,
            "order": null,
            "overflow": null,
            "overflow_x": null,
            "overflow_y": null,
            "padding": null,
            "right": null,
            "top": null,
            "visibility": null,
            "width": null
          }
        },
        "ce6b732a71af472d93fff0c5662551de": {
          "model_module": "@jupyter-widgets/controls",
          "model_name": "ProgressStyleModel",
          "model_module_version": "1.5.0",
          "state": {
            "_model_module": "@jupyter-widgets/controls",
            "_model_module_version": "1.5.0",
            "_model_name": "ProgressStyleModel",
            "_view_count": null,
            "_view_module": "@jupyter-widgets/base",
            "_view_module_version": "1.2.0",
            "_view_name": "StyleView",
            "bar_color": null,
            "description_width": ""
          }
        },
        "e8e2010cf2b448f0a978b1d77bf6aa5e": {
          "model_module": "@jupyter-widgets/base",
          "model_name": "LayoutModel",
          "model_module_version": "1.2.0",
          "state": {
            "_model_module": "@jupyter-widgets/base",
            "_model_module_version": "1.2.0",
            "_model_name": "LayoutModel",
            "_view_count": null,
            "_view_module": "@jupyter-widgets/base",
            "_view_module_version": "1.2.0",
            "_view_name": "LayoutView",
            "align_content": null,
            "align_items": null,
            "align_self": null,
            "border": null,
            "bottom": null,
            "display": null,
            "flex": null,
            "flex_flow": null,
            "grid_area": null,
            "grid_auto_columns": null,
            "grid_auto_flow": null,
            "grid_auto_rows": null,
            "grid_column": null,
            "grid_gap": null,
            "grid_row": null,
            "grid_template_areas": null,
            "grid_template_columns": null,
            "grid_template_rows": null,
            "height": null,
            "justify_content": null,
            "justify_items": null,
            "left": null,
            "margin": null,
            "max_height": null,
            "max_width": null,
            "min_height": null,
            "min_width": null,
            "object_fit": null,
            "object_position": null,
            "order": null,
            "overflow": null,
            "overflow_x": null,
            "overflow_y": null,
            "padding": null,
            "right": null,
            "top": null,
            "visibility": null,
            "width": null
          }
        },
        "01b8d58bcf1d4321890c40ecc5471a58": {
          "model_module": "@jupyter-widgets/controls",
          "model_name": "DescriptionStyleModel",
          "model_module_version": "1.5.0",
          "state": {
            "_model_module": "@jupyter-widgets/controls",
            "_model_module_version": "1.5.0",
            "_model_name": "DescriptionStyleModel",
            "_view_count": null,
            "_view_module": "@jupyter-widgets/base",
            "_view_module_version": "1.2.0",
            "_view_name": "StyleView",
            "description_width": ""
          }
        },
        "d7c5479b19c1470d80d299fd4e8afad9": {
          "model_module": "@jupyter-widgets/controls",
          "model_name": "HBoxModel",
          "model_module_version": "1.5.0",
          "state": {
            "_dom_classes": [],
            "_model_module": "@jupyter-widgets/controls",
            "_model_module_version": "1.5.0",
            "_model_name": "HBoxModel",
            "_view_count": null,
            "_view_module": "@jupyter-widgets/controls",
            "_view_module_version": "1.5.0",
            "_view_name": "HBoxView",
            "box_style": "",
            "children": [
              "IPY_MODEL_0ff420e8f73543a398f589d499cbd7a0",
              "IPY_MODEL_02b0a55ec045457794f068b92e4d3323",
              "IPY_MODEL_def36812796746a8ba10fa6c034b6aef"
            ],
            "layout": "IPY_MODEL_1af1a09456f74dcd85d1b2771d6d4514"
          }
        },
        "0ff420e8f73543a398f589d499cbd7a0": {
          "model_module": "@jupyter-widgets/controls",
          "model_name": "HTMLModel",
          "model_module_version": "1.5.0",
          "state": {
            "_dom_classes": [],
            "_model_module": "@jupyter-widgets/controls",
            "_model_module_version": "1.5.0",
            "_model_name": "HTMLModel",
            "_view_count": null,
            "_view_module": "@jupyter-widgets/controls",
            "_view_module_version": "1.5.0",
            "_view_name": "HTMLView",
            "description": "",
            "description_tooltip": null,
            "layout": "IPY_MODEL_564da74ec65440758cf6b18f486d1d85",
            "placeholder": "​",
            "style": "IPY_MODEL_22f8bea2eeae4947aebc2e98eb597421",
            "value": "100%"
          }
        },
        "02b0a55ec045457794f068b92e4d3323": {
          "model_module": "@jupyter-widgets/controls",
          "model_name": "FloatProgressModel",
          "model_module_version": "1.5.0",
          "state": {
            "_dom_classes": [],
            "_model_module": "@jupyter-widgets/controls",
            "_model_module_version": "1.5.0",
            "_model_name": "FloatProgressModel",
            "_view_count": null,
            "_view_module": "@jupyter-widgets/controls",
            "_view_module_version": "1.5.0",
            "_view_name": "ProgressView",
            "bar_style": "success",
            "description": "",
            "description_tooltip": null,
            "layout": "IPY_MODEL_7747223059c24af28034afbdfe535012",
            "max": 20,
            "min": 0,
            "orientation": "horizontal",
            "style": "IPY_MODEL_65a091846744417c9c76a12d5cca9033",
            "value": 20
          }
        },
        "def36812796746a8ba10fa6c034b6aef": {
          "model_module": "@jupyter-widgets/controls",
          "model_name": "HTMLModel",
          "model_module_version": "1.5.0",
          "state": {
            "_dom_classes": [],
            "_model_module": "@jupyter-widgets/controls",
            "_model_module_version": "1.5.0",
            "_model_name": "HTMLModel",
            "_view_count": null,
            "_view_module": "@jupyter-widgets/controls",
            "_view_module_version": "1.5.0",
            "_view_name": "HTMLView",
            "description": "",
            "description_tooltip": null,
            "layout": "IPY_MODEL_206ea48cc4e94b9a887471a090fd94d8",
            "placeholder": "​",
            "style": "IPY_MODEL_9456726224bf4ede876aae18827df357",
            "value": " 20/20 [00:59&lt;00:00,  2.84s/it]"
          }
        },
        "1af1a09456f74dcd85d1b2771d6d4514": {
          "model_module": "@jupyter-widgets/base",
          "model_name": "LayoutModel",
          "model_module_version": "1.2.0",
          "state": {
            "_model_module": "@jupyter-widgets/base",
            "_model_module_version": "1.2.0",
            "_model_name": "LayoutModel",
            "_view_count": null,
            "_view_module": "@jupyter-widgets/base",
            "_view_module_version": "1.2.0",
            "_view_name": "LayoutView",
            "align_content": null,
            "align_items": null,
            "align_self": null,
            "border": null,
            "bottom": null,
            "display": null,
            "flex": null,
            "flex_flow": null,
            "grid_area": null,
            "grid_auto_columns": null,
            "grid_auto_flow": null,
            "grid_auto_rows": null,
            "grid_column": null,
            "grid_gap": null,
            "grid_row": null,
            "grid_template_areas": null,
            "grid_template_columns": null,
            "grid_template_rows": null,
            "height": null,
            "justify_content": null,
            "justify_items": null,
            "left": null,
            "margin": null,
            "max_height": null,
            "max_width": null,
            "min_height": null,
            "min_width": null,
            "object_fit": null,
            "object_position": null,
            "order": null,
            "overflow": null,
            "overflow_x": null,
            "overflow_y": null,
            "padding": null,
            "right": null,
            "top": null,
            "visibility": null,
            "width": null
          }
        },
        "564da74ec65440758cf6b18f486d1d85": {
          "model_module": "@jupyter-widgets/base",
          "model_name": "LayoutModel",
          "model_module_version": "1.2.0",
          "state": {
            "_model_module": "@jupyter-widgets/base",
            "_model_module_version": "1.2.0",
            "_model_name": "LayoutModel",
            "_view_count": null,
            "_view_module": "@jupyter-widgets/base",
            "_view_module_version": "1.2.0",
            "_view_name": "LayoutView",
            "align_content": null,
            "align_items": null,
            "align_self": null,
            "border": null,
            "bottom": null,
            "display": null,
            "flex": null,
            "flex_flow": null,
            "grid_area": null,
            "grid_auto_columns": null,
            "grid_auto_flow": null,
            "grid_auto_rows": null,
            "grid_column": null,
            "grid_gap": null,
            "grid_row": null,
            "grid_template_areas": null,
            "grid_template_columns": null,
            "grid_template_rows": null,
            "height": null,
            "justify_content": null,
            "justify_items": null,
            "left": null,
            "margin": null,
            "max_height": null,
            "max_width": null,
            "min_height": null,
            "min_width": null,
            "object_fit": null,
            "object_position": null,
            "order": null,
            "overflow": null,
            "overflow_x": null,
            "overflow_y": null,
            "padding": null,
            "right": null,
            "top": null,
            "visibility": null,
            "width": null
          }
        },
        "22f8bea2eeae4947aebc2e98eb597421": {
          "model_module": "@jupyter-widgets/controls",
          "model_name": "DescriptionStyleModel",
          "model_module_version": "1.5.0",
          "state": {
            "_model_module": "@jupyter-widgets/controls",
            "_model_module_version": "1.5.0",
            "_model_name": "DescriptionStyleModel",
            "_view_count": null,
            "_view_module": "@jupyter-widgets/base",
            "_view_module_version": "1.2.0",
            "_view_name": "StyleView",
            "description_width": ""
          }
        },
        "7747223059c24af28034afbdfe535012": {
          "model_module": "@jupyter-widgets/base",
          "model_name": "LayoutModel",
          "model_module_version": "1.2.0",
          "state": {
            "_model_module": "@jupyter-widgets/base",
            "_model_module_version": "1.2.0",
            "_model_name": "LayoutModel",
            "_view_count": null,
            "_view_module": "@jupyter-widgets/base",
            "_view_module_version": "1.2.0",
            "_view_name": "LayoutView",
            "align_content": null,
            "align_items": null,
            "align_self": null,
            "border": null,
            "bottom": null,
            "display": null,
            "flex": null,
            "flex_flow": null,
            "grid_area": null,
            "grid_auto_columns": null,
            "grid_auto_flow": null,
            "grid_auto_rows": null,
            "grid_column": null,
            "grid_gap": null,
            "grid_row": null,
            "grid_template_areas": null,
            "grid_template_columns": null,
            "grid_template_rows": null,
            "height": null,
            "justify_content": null,
            "justify_items": null,
            "left": null,
            "margin": null,
            "max_height": null,
            "max_width": null,
            "min_height": null,
            "min_width": null,
            "object_fit": null,
            "object_position": null,
            "order": null,
            "overflow": null,
            "overflow_x": null,
            "overflow_y": null,
            "padding": null,
            "right": null,
            "top": null,
            "visibility": null,
            "width": null
          }
        },
        "65a091846744417c9c76a12d5cca9033": {
          "model_module": "@jupyter-widgets/controls",
          "model_name": "ProgressStyleModel",
          "model_module_version": "1.5.0",
          "state": {
            "_model_module": "@jupyter-widgets/controls",
            "_model_module_version": "1.5.0",
            "_model_name": "ProgressStyleModel",
            "_view_count": null,
            "_view_module": "@jupyter-widgets/base",
            "_view_module_version": "1.2.0",
            "_view_name": "StyleView",
            "bar_color": null,
            "description_width": ""
          }
        },
        "206ea48cc4e94b9a887471a090fd94d8": {
          "model_module": "@jupyter-widgets/base",
          "model_name": "LayoutModel",
          "model_module_version": "1.2.0",
          "state": {
            "_model_module": "@jupyter-widgets/base",
            "_model_module_version": "1.2.0",
            "_model_name": "LayoutModel",
            "_view_count": null,
            "_view_module": "@jupyter-widgets/base",
            "_view_module_version": "1.2.0",
            "_view_name": "LayoutView",
            "align_content": null,
            "align_items": null,
            "align_self": null,
            "border": null,
            "bottom": null,
            "display": null,
            "flex": null,
            "flex_flow": null,
            "grid_area": null,
            "grid_auto_columns": null,
            "grid_auto_flow": null,
            "grid_auto_rows": null,
            "grid_column": null,
            "grid_gap": null,
            "grid_row": null,
            "grid_template_areas": null,
            "grid_template_columns": null,
            "grid_template_rows": null,
            "height": null,
            "justify_content": null,
            "justify_items": null,
            "left": null,
            "margin": null,
            "max_height": null,
            "max_width": null,
            "min_height": null,
            "min_width": null,
            "object_fit": null,
            "object_position": null,
            "order": null,
            "overflow": null,
            "overflow_x": null,
            "overflow_y": null,
            "padding": null,
            "right": null,
            "top": null,
            "visibility": null,
            "width": null
          }
        },
        "9456726224bf4ede876aae18827df357": {
          "model_module": "@jupyter-widgets/controls",
          "model_name": "DescriptionStyleModel",
          "model_module_version": "1.5.0",
          "state": {
            "_model_module": "@jupyter-widgets/controls",
            "_model_module_version": "1.5.0",
            "_model_name": "DescriptionStyleModel",
            "_view_count": null,
            "_view_module": "@jupyter-widgets/base",
            "_view_module_version": "1.2.0",
            "_view_name": "StyleView",
            "description_width": ""
          }
        },
        "52c5161b2ea544c58e6b68a5cdccb1a1": {
          "model_module": "@jupyter-widgets/controls",
          "model_name": "HBoxModel",
          "model_module_version": "1.5.0",
          "state": {
            "_dom_classes": [],
            "_model_module": "@jupyter-widgets/controls",
            "_model_module_version": "1.5.0",
            "_model_name": "HBoxModel",
            "_view_count": null,
            "_view_module": "@jupyter-widgets/controls",
            "_view_module_version": "1.5.0",
            "_view_name": "HBoxView",
            "box_style": "",
            "children": [
              "IPY_MODEL_ae74ee8316884a86a51aad0773ea2d1e",
              "IPY_MODEL_7346d88d614040faa81b34618a5e1a3a",
              "IPY_MODEL_60d7e29849c84619a413b5381f7f83c1"
            ],
            "layout": "IPY_MODEL_19925fd4c9a44044bef3ce4083c9c365"
          }
        },
        "ae74ee8316884a86a51aad0773ea2d1e": {
          "model_module": "@jupyter-widgets/controls",
          "model_name": "HTMLModel",
          "model_module_version": "1.5.0",
          "state": {
            "_dom_classes": [],
            "_model_module": "@jupyter-widgets/controls",
            "_model_module_version": "1.5.0",
            "_model_name": "HTMLModel",
            "_view_count": null,
            "_view_module": "@jupyter-widgets/controls",
            "_view_module_version": "1.5.0",
            "_view_name": "HTMLView",
            "description": "",
            "description_tooltip": null,
            "layout": "IPY_MODEL_532ea386603f419f9758a8da18c1421d",
            "placeholder": "​",
            "style": "IPY_MODEL_3fe1f5fde9b44c249e005c904c54f78d",
            "value": "100%"
          }
        },
        "7346d88d614040faa81b34618a5e1a3a": {
          "model_module": "@jupyter-widgets/controls",
          "model_name": "FloatProgressModel",
          "model_module_version": "1.5.0",
          "state": {
            "_dom_classes": [],
            "_model_module": "@jupyter-widgets/controls",
            "_model_module_version": "1.5.0",
            "_model_name": "FloatProgressModel",
            "_view_count": null,
            "_view_module": "@jupyter-widgets/controls",
            "_view_module_version": "1.5.0",
            "_view_name": "ProgressView",
            "bar_style": "success",
            "description": "",
            "description_tooltip": null,
            "layout": "IPY_MODEL_8c5e47ed20ae44708f86e40a12284ae5",
            "max": 20,
            "min": 0,
            "orientation": "horizontal",
            "style": "IPY_MODEL_39ee624eea49475986f4f0862f56c920",
            "value": 20
          }
        },
        "60d7e29849c84619a413b5381f7f83c1": {
          "model_module": "@jupyter-widgets/controls",
          "model_name": "HTMLModel",
          "model_module_version": "1.5.0",
          "state": {
            "_dom_classes": [],
            "_model_module": "@jupyter-widgets/controls",
            "_model_module_version": "1.5.0",
            "_model_name": "HTMLModel",
            "_view_count": null,
            "_view_module": "@jupyter-widgets/controls",
            "_view_module_version": "1.5.0",
            "_view_name": "HTMLView",
            "description": "",
            "description_tooltip": null,
            "layout": "IPY_MODEL_63709afc41f240f4a69846a870003ffa",
            "placeholder": "​",
            "style": "IPY_MODEL_11409bd4807f4597bb495e32a19d60bd",
            "value": " 20/20 [02:03&lt;00:00,  5.87s/it]"
          }
        },
        "19925fd4c9a44044bef3ce4083c9c365": {
          "model_module": "@jupyter-widgets/base",
          "model_name": "LayoutModel",
          "model_module_version": "1.2.0",
          "state": {
            "_model_module": "@jupyter-widgets/base",
            "_model_module_version": "1.2.0",
            "_model_name": "LayoutModel",
            "_view_count": null,
            "_view_module": "@jupyter-widgets/base",
            "_view_module_version": "1.2.0",
            "_view_name": "LayoutView",
            "align_content": null,
            "align_items": null,
            "align_self": null,
            "border": null,
            "bottom": null,
            "display": null,
            "flex": null,
            "flex_flow": null,
            "grid_area": null,
            "grid_auto_columns": null,
            "grid_auto_flow": null,
            "grid_auto_rows": null,
            "grid_column": null,
            "grid_gap": null,
            "grid_row": null,
            "grid_template_areas": null,
            "grid_template_columns": null,
            "grid_template_rows": null,
            "height": null,
            "justify_content": null,
            "justify_items": null,
            "left": null,
            "margin": null,
            "max_height": null,
            "max_width": null,
            "min_height": null,
            "min_width": null,
            "object_fit": null,
            "object_position": null,
            "order": null,
            "overflow": null,
            "overflow_x": null,
            "overflow_y": null,
            "padding": null,
            "right": null,
            "top": null,
            "visibility": null,
            "width": null
          }
        },
        "532ea386603f419f9758a8da18c1421d": {
          "model_module": "@jupyter-widgets/base",
          "model_name": "LayoutModel",
          "model_module_version": "1.2.0",
          "state": {
            "_model_module": "@jupyter-widgets/base",
            "_model_module_version": "1.2.0",
            "_model_name": "LayoutModel",
            "_view_count": null,
            "_view_module": "@jupyter-widgets/base",
            "_view_module_version": "1.2.0",
            "_view_name": "LayoutView",
            "align_content": null,
            "align_items": null,
            "align_self": null,
            "border": null,
            "bottom": null,
            "display": null,
            "flex": null,
            "flex_flow": null,
            "grid_area": null,
            "grid_auto_columns": null,
            "grid_auto_flow": null,
            "grid_auto_rows": null,
            "grid_column": null,
            "grid_gap": null,
            "grid_row": null,
            "grid_template_areas": null,
            "grid_template_columns": null,
            "grid_template_rows": null,
            "height": null,
            "justify_content": null,
            "justify_items": null,
            "left": null,
            "margin": null,
            "max_height": null,
            "max_width": null,
            "min_height": null,
            "min_width": null,
            "object_fit": null,
            "object_position": null,
            "order": null,
            "overflow": null,
            "overflow_x": null,
            "overflow_y": null,
            "padding": null,
            "right": null,
            "top": null,
            "visibility": null,
            "width": null
          }
        },
        "3fe1f5fde9b44c249e005c904c54f78d": {
          "model_module": "@jupyter-widgets/controls",
          "model_name": "DescriptionStyleModel",
          "model_module_version": "1.5.0",
          "state": {
            "_model_module": "@jupyter-widgets/controls",
            "_model_module_version": "1.5.0",
            "_model_name": "DescriptionStyleModel",
            "_view_count": null,
            "_view_module": "@jupyter-widgets/base",
            "_view_module_version": "1.2.0",
            "_view_name": "StyleView",
            "description_width": ""
          }
        },
        "8c5e47ed20ae44708f86e40a12284ae5": {
          "model_module": "@jupyter-widgets/base",
          "model_name": "LayoutModel",
          "model_module_version": "1.2.0",
          "state": {
            "_model_module": "@jupyter-widgets/base",
            "_model_module_version": "1.2.0",
            "_model_name": "LayoutModel",
            "_view_count": null,
            "_view_module": "@jupyter-widgets/base",
            "_view_module_version": "1.2.0",
            "_view_name": "LayoutView",
            "align_content": null,
            "align_items": null,
            "align_self": null,
            "border": null,
            "bottom": null,
            "display": null,
            "flex": null,
            "flex_flow": null,
            "grid_area": null,
            "grid_auto_columns": null,
            "grid_auto_flow": null,
            "grid_auto_rows": null,
            "grid_column": null,
            "grid_gap": null,
            "grid_row": null,
            "grid_template_areas": null,
            "grid_template_columns": null,
            "grid_template_rows": null,
            "height": null,
            "justify_content": null,
            "justify_items": null,
            "left": null,
            "margin": null,
            "max_height": null,
            "max_width": null,
            "min_height": null,
            "min_width": null,
            "object_fit": null,
            "object_position": null,
            "order": null,
            "overflow": null,
            "overflow_x": null,
            "overflow_y": null,
            "padding": null,
            "right": null,
            "top": null,
            "visibility": null,
            "width": null
          }
        },
        "39ee624eea49475986f4f0862f56c920": {
          "model_module": "@jupyter-widgets/controls",
          "model_name": "ProgressStyleModel",
          "model_module_version": "1.5.0",
          "state": {
            "_model_module": "@jupyter-widgets/controls",
            "_model_module_version": "1.5.0",
            "_model_name": "ProgressStyleModel",
            "_view_count": null,
            "_view_module": "@jupyter-widgets/base",
            "_view_module_version": "1.2.0",
            "_view_name": "StyleView",
            "bar_color": null,
            "description_width": ""
          }
        },
        "63709afc41f240f4a69846a870003ffa": {
          "model_module": "@jupyter-widgets/base",
          "model_name": "LayoutModel",
          "model_module_version": "1.2.0",
          "state": {
            "_model_module": "@jupyter-widgets/base",
            "_model_module_version": "1.2.0",
            "_model_name": "LayoutModel",
            "_view_count": null,
            "_view_module": "@jupyter-widgets/base",
            "_view_module_version": "1.2.0",
            "_view_name": "LayoutView",
            "align_content": null,
            "align_items": null,
            "align_self": null,
            "border": null,
            "bottom": null,
            "display": null,
            "flex": null,
            "flex_flow": null,
            "grid_area": null,
            "grid_auto_columns": null,
            "grid_auto_flow": null,
            "grid_auto_rows": null,
            "grid_column": null,
            "grid_gap": null,
            "grid_row": null,
            "grid_template_areas": null,
            "grid_template_columns": null,
            "grid_template_rows": null,
            "height": null,
            "justify_content": null,
            "justify_items": null,
            "left": null,
            "margin": null,
            "max_height": null,
            "max_width": null,
            "min_height": null,
            "min_width": null,
            "object_fit": null,
            "object_position": null,
            "order": null,
            "overflow": null,
            "overflow_x": null,
            "overflow_y": null,
            "padding": null,
            "right": null,
            "top": null,
            "visibility": null,
            "width": null
          }
        },
        "11409bd4807f4597bb495e32a19d60bd": {
          "model_module": "@jupyter-widgets/controls",
          "model_name": "DescriptionStyleModel",
          "model_module_version": "1.5.0",
          "state": {
            "_model_module": "@jupyter-widgets/controls",
            "_model_module_version": "1.5.0",
            "_model_name": "DescriptionStyleModel",
            "_view_count": null,
            "_view_module": "@jupyter-widgets/base",
            "_view_module_version": "1.2.0",
            "_view_name": "StyleView",
            "description_width": ""
          }
        }
      }
    }
  },
  "cells": [
    {
      "cell_type": "markdown",
      "metadata": {
        "id": "view-in-github",
        "colab_type": "text"
      },
      "source": [
        "<a href=\"https://colab.research.google.com/github/Yong-Hui-Liew/PyTorch-Adventure/blob/main/04_pytorch_exercise_solutions.ipynb\" target=\"_parent\"><img src=\"https://colab.research.google.com/assets/colab-badge.svg\" alt=\"Open In Colab\"/></a>"
      ]
    },
    {
      "cell_type": "markdown",
      "source": [
        "## 1. Our models are underperforming (not fitting the data well). What are 3 methods for preventing underfitting? Write them down and explain each with a sentence."
      ],
      "metadata": {
        "id": "cFK8lARhsAfF"
      }
    },
    {
      "cell_type": "markdown",
      "source": [
        "1. Train on more data\n",
        "2. Increase hidden units/layers\n",
        "3. Train longer"
      ],
      "metadata": {
        "id": "KsKrBGGBsPof"
      }
    },
    {
      "cell_type": "markdown",
      "source": [
        "## 2. Recreate the data loading functions we built in sections 1, 2, 3 and 4. You should have train and test DataLoader's ready to use."
      ],
      "metadata": {
        "id": "55oPFUH5sM62"
      }
    },
    {
      "cell_type": "code",
      "source": [
        "import requests\n",
        "from pathlib import Path\n",
        "import zipfile\n",
        "\n",
        "data_path = Path(\"data/\")\n",
        "image_path = data_path / \"pizza_steak_sushi\"\n",
        "\n",
        "if image_path.is_dir():\n",
        "  print(f\"path exists, skipping download...\")\n",
        "else:\n",
        "  print(f\"path doesn't exist, creating...\")\n",
        "  image_path.mkdir(parents=True, exist_ok=True)\n",
        "\n",
        "with open(data_path / \"pizza_steak_sushi.zip\", \"wb\") as f:\n",
        "  request = requests.get(\"https://github.com/Yong-Hui-Liew/PyTorch-Adventure/raw/main/pizza_steak_sushi.zip\")\n",
        "  f.write(request.content)\n",
        "\n",
        "# unzip pizza, steak, sushi data\n",
        "with zipfile.ZipFile(data_path / \"pizza_steak_sushi.zip\", \"r\") as zip_ref:\n",
        "  print(\"Unzipping pizza, steak and sushi data...\")\n",
        "  zip_ref.extractall(image_path)"
      ],
      "metadata": {
        "colab": {
          "base_uri": "https://localhost:8080/"
        },
        "id": "MhsU99qIsham",
        "outputId": "0def1845-20bc-49a5-8806-b1138b914a58"
      },
      "execution_count": 109,
      "outputs": [
        {
          "output_type": "stream",
          "name": "stdout",
          "text": [
            "path exists, skipping download...\n",
            "Unzipping pizza, steak and sushi data...\n"
          ]
        }
      ]
    },
    {
      "cell_type": "code",
      "source": [
        "import random\n",
        "from PIL import Image\n",
        "train_dir = image_path / \"train\"\n",
        "test_dir = image_path / \"test\"\n",
        "\n",
        "train_dir"
      ],
      "metadata": {
        "colab": {
          "base_uri": "https://localhost:8080/"
        },
        "id": "6V1U-Tfeud6y",
        "outputId": "a4498b84-727f-407e-f918-281cb1527237"
      },
      "execution_count": 110,
      "outputs": [
        {
          "output_type": "execute_result",
          "data": {
            "text/plain": [
              "PosixPath('data/pizza_steak_sushi/train')"
            ]
          },
          "metadata": {},
          "execution_count": 110
        }
      ]
    },
    {
      "cell_type": "code",
      "source": [
        "image_path_list = list(image_path.glob(\"*/*/*.jpg\"))"
      ],
      "metadata": {
        "colab": {
          "base_uri": "https://localhost:8080/"
        },
        "id": "d8dJvJITvAie",
        "outputId": "d596a86d-5c53-4cce-f4d5-98e98911a9da"
      },
      "execution_count": 131,
      "outputs": [
        {
          "output_type": "stream",
          "name": "stdout",
          "text": [
            "data/pizza_steak_sushi/train/sushi/2492146.jpg\n"
          ]
        }
      ]
    },
    {
      "cell_type": "code",
      "source": [
        "img, label = next(iter(train_dataloader))\n",
        "img.shape, label.shape"
      ],
      "metadata": {
        "colab": {
          "base_uri": "https://localhost:8080/"
        },
        "id": "5HpHacH5At63",
        "outputId": "a002f40e-d550-4076-dc42-32c8ec310651"
      },
      "execution_count": 134,
      "outputs": [
        {
          "output_type": "execute_result",
          "data": {
            "text/plain": [
              "(torch.Size([32, 3, 64, 64]), torch.Size([32]))"
            ]
          },
          "metadata": {},
          "execution_count": 134
        }
      ]
    },
    {
      "cell_type": "code",
      "source": [
        "from torchvision import datasets, transforms\n",
        "from torch.utils.data import DataLoader\n",
        "import matplotlib.pyplot as plt\n",
        "import os\n",
        "transform = transforms.Compose([\n",
        "    transforms.Resize((64, 64)),\n",
        "    transforms.ToTensor(),\n",
        "])\n",
        "train_data = datasets.ImageFolder(root=train_dir,\n",
        "                                  transform=transform,\n",
        "                                  target_transform=None)\n",
        "test_data = datasets.ImageFolder(root=test_dir,\n",
        "                                 transform=transform,\n",
        "                                 target_transform=None)\n",
        "\n",
        "BATCH_SIZE = 32\n",
        "NUM_WORKERS = os.cpu_count()\n",
        "train_dataloader = DataLoader(dataset=train_data,\n",
        "                              batch_size=BATCH_SIZE,\n",
        "                              num_workers=0,\n",
        "                              shuffle=True)\n",
        "test_dataloader = DataLoader(dataset=test_data,\n",
        "                              batch_size=BATCH_SIZE,\n",
        "                              num_workers=0,\n",
        "                              shuffle=False)\n",
        "train_dataloader, test_dataloader"
      ],
      "metadata": {
        "colab": {
          "base_uri": "https://localhost:8080/"
        },
        "id": "RA-uLRUuwN10",
        "outputId": "56224867-a695-4d7e-e94a-060ea45f1cac"
      },
      "execution_count": 165,
      "outputs": [
        {
          "output_type": "execute_result",
          "data": {
            "text/plain": [
              "(<torch.utils.data.dataloader.DataLoader at 0x7deacd572050>,\n",
              " <torch.utils.data.dataloader.DataLoader at 0x7deacd571d20>)"
            ]
          },
          "metadata": {},
          "execution_count": 165
        }
      ]
    },
    {
      "cell_type": "markdown",
      "source": [
        "## 3. Recreate model_0 we built in section 7."
      ],
      "metadata": {
        "id": "ILqOiTPtxD9q"
      }
    },
    {
      "cell_type": "code",
      "source": [
        "import torch\n",
        "from torch import nn\n",
        "\n",
        "class TinyVGG(nn.Module):\n",
        "  def __init__(self, input_shape: int, hidden_unit: int, output_shape: int):\n",
        "    super().__init__()\n",
        "    self.layer_1 = nn.Sequential(\n",
        "        nn.Conv2d(in_channels=input_shape, out_channels=hidden_unit, kernel_size=3, stride=1, padding=1),\n",
        "        nn.ReLU(),\n",
        "        nn.Conv2d(in_channels=hidden_unit, out_channels=hidden_unit, kernel_size=3, stride=1, padding=1),\n",
        "        nn.ReLU(),\n",
        "        nn.MaxPool2d(kernel_size=2, stride=2)\n",
        "    )\n",
        "    self.layer_2 = nn.Sequential(\n",
        "        nn.Conv2d(in_channels=hidden_unit, out_channels=hidden_unit, kernel_size=3, stride=1, padding=1),\n",
        "        nn.ReLU(),\n",
        "        nn.Conv2d(in_channels=hidden_unit, out_channels=hidden_unit, kernel_size=3, stride=1, padding=1),\n",
        "        nn.ReLU(),\n",
        "        nn.MaxPool2d(kernel_size=2, stride=2)\n",
        "    )\n",
        "    self.classification = nn.Sequential(\n",
        "        nn.Flatten(),\n",
        "        nn.Linear(in_features=hidden_unit*16*16, out_features=output_shape)\n",
        "    )\n",
        "  def forward(self, x):\n",
        "    x = self.layer_1(x)\n",
        "    #print(x.shape)\n",
        "    x = self.layer_2(x)\n",
        "    #print(x.shape)\n",
        "    x = self.classification(x)\n",
        "    #print(x.shape)\n",
        "    return x"
      ],
      "metadata": {
        "id": "2gL06nWtzz_g"
      },
      "execution_count": 158,
      "outputs": []
    },
    {
      "cell_type": "code",
      "source": [
        "model_0 = TinyVGG(input_shape=3,\n",
        "                hidden_unit=10,\n",
        "                output_shape=3).to(\"cpu\")\n",
        "model_0"
      ],
      "metadata": {
        "colab": {
          "base_uri": "https://localhost:8080/"
        },
        "id": "5K1Yc0vP1n64",
        "outputId": "0e37308e-f4a4-4b74-b25a-87d0098088c8"
      },
      "execution_count": 159,
      "outputs": [
        {
          "output_type": "execute_result",
          "data": {
            "text/plain": [
              "TinyVGG(\n",
              "  (layer_1): Sequential(\n",
              "    (0): Conv2d(3, 10, kernel_size=(3, 3), stride=(1, 1), padding=(1, 1))\n",
              "    (1): ReLU()\n",
              "    (2): Conv2d(10, 10, kernel_size=(3, 3), stride=(1, 1), padding=(1, 1))\n",
              "    (3): ReLU()\n",
              "    (4): MaxPool2d(kernel_size=2, stride=2, padding=0, dilation=1, ceil_mode=False)\n",
              "  )\n",
              "  (layer_2): Sequential(\n",
              "    (0): Conv2d(10, 10, kernel_size=(3, 3), stride=(1, 1), padding=(1, 1))\n",
              "    (1): ReLU()\n",
              "    (2): Conv2d(10, 10, kernel_size=(3, 3), stride=(1, 1), padding=(1, 1))\n",
              "    (3): ReLU()\n",
              "    (4): MaxPool2d(kernel_size=2, stride=2, padding=0, dilation=1, ceil_mode=False)\n",
              "  )\n",
              "  (classification): Sequential(\n",
              "    (0): Flatten(start_dim=1, end_dim=-1)\n",
              "    (1): Linear(in_features=2560, out_features=3, bias=True)\n",
              "  )\n",
              ")"
            ]
          },
          "metadata": {},
          "execution_count": 159
        }
      ]
    },
    {
      "cell_type": "markdown",
      "source": [
        "## 4. Create training and testing functions for model_0."
      ],
      "metadata": {
        "id": "SjJw1WMT12FH"
      }
    },
    {
      "cell_type": "code",
      "source": [
        "loss_fn = nn.CrossEntropyLoss()\n",
        "optimizer = torch.optim.Adam(params=model_0.parameters(),\n",
        "                             lr=0.001)"
      ],
      "metadata": {
        "id": "4Hw3lFW-1-3t"
      },
      "execution_count": 160,
      "outputs": []
    },
    {
      "cell_type": "code",
      "source": [
        "def train_step(model: torch.nn.Module,\n",
        "               dataloader: torch.utils.data.DataLoader,\n",
        "               loss_fn: torch.nn.Module,\n",
        "               optimizer: torch.optim.Optimizer):\n",
        "  model.train()\n",
        "  train_loss, train_acc = 0, 0\n",
        "  for batch, (X,y) in enumerate(dataloader):\n",
        "    y_logits = model(X)\n",
        "    loss = loss_fn(y_logits, y)\n",
        "    acc = (torch.argmax(torch.softmax(y_logits, dim=1),dim=1) == y).sum() / len(y)\n",
        "    train_loss += loss\n",
        "    train_acc += acc\n",
        "    optimizer.zero_grad()\n",
        "    loss.backward()\n",
        "    optimizer.step()\n",
        "\n",
        "  train_loss /= len(dataloader)\n",
        "  train_acc /= len(dataloader)\n",
        "\n",
        "  return train_loss, train_acc"
      ],
      "metadata": {
        "id": "gS732tfH2OCg"
      },
      "execution_count": 161,
      "outputs": []
    },
    {
      "cell_type": "code",
      "source": [
        "def test_step(model: torch.nn.Module,\n",
        "               dataloader: torch.utils.data.DataLoader,\n",
        "               loss_fn: torch.nn.Module):\n",
        "  model.eval()\n",
        "  test_loss, test_acc = 0, 0\n",
        "  with torch.inference_mode():\n",
        "    for batch, (X,y) in enumerate(dataloader):\n",
        "      test_logits = model(X)\n",
        "      loss = loss_fn(test_logits, y)\n",
        "      test_labels = torch.argmax(torch.softmax(test_logits, dim=1), dim=1)\n",
        "      acc = (test_labels == y).sum().item() / len(test_labels)\n",
        "      test_loss += loss\n",
        "      test_acc += acc\n",
        "    test_loss /= len(dataloader)\n",
        "    test_acc /= len(dataloader)\n",
        "\n",
        "  return test_loss, test_acc\n"
      ],
      "metadata": {
        "id": "LwZjwksM53ZY"
      },
      "execution_count": 162,
      "outputs": []
    },
    {
      "cell_type": "markdown",
      "source": [
        "## 5. Try training the model you made in exercise 3 for 5, 20 and 50 epochs, what happens to the results?\n",
        "* Use `torch.optim.Adam()` with a learning rate of 0.001 as the optimizer."
      ],
      "metadata": {
        "id": "g4Vaqq1u4R9c"
      }
    },
    {
      "cell_type": "code",
      "source": [
        "from tqdm.auto import tqdm\n",
        "torch.manual_seed(42)\n",
        "torch.cuda.manual_seed(42)\n",
        "\n",
        "epochs = 50\n",
        "\n",
        "for epoch in tqdm(range(epochs)):\n",
        "  train_loss, train_acc = train_step(model_0, train_dataloader, loss_fn, optimizer)\n",
        "  test_loss, test_acc = test_step(model_0, test_dataloader, loss_fn)\n",
        "  print(f\"train_loss: {train_loss} | train_acc: {train_acc} | test_loss: {test_loss} | test_acc: {test_acc}\")"
      ],
      "metadata": {
        "colab": {
          "base_uri": "https://localhost:8080/",
          "height": 937,
          "referenced_widgets": [
            "b3000b924d3248629647d1430d249e05",
            "2dedb64e758d40a5b2fc67a52e22aead",
            "831f36cac1bc4610bed514464a52277c",
            "4dd68d65c613458a92185e343870f693",
            "c63d0b25b14c4bccae92d748a92d6810",
            "956e2d1102b44c4780d0c2912678372d",
            "13dce316215d47568ba7d2e2f8a8c119",
            "6cd3b5c658374abe82a01560346d6ebf",
            "ce6b732a71af472d93fff0c5662551de",
            "e8e2010cf2b448f0a978b1d77bf6aa5e",
            "01b8d58bcf1d4321890c40ecc5471a58"
          ]
        },
        "id": "JjypsemD7PsE",
        "outputId": "90faf40d-2609-4371-a432-a0735ae6a6e3"
      },
      "execution_count": 171,
      "outputs": [
        {
          "output_type": "display_data",
          "data": {
            "text/plain": [
              "  0%|          | 0/50 [00:00<?, ?it/s]"
            ],
            "application/vnd.jupyter.widget-view+json": {
              "version_major": 2,
              "version_minor": 0,
              "model_id": "b3000b924d3248629647d1430d249e05"
            }
          },
          "metadata": {}
        },
        {
          "output_type": "stream",
          "name": "stdout",
          "text": [
            "train_loss: 0.12105108797550201 | train_acc: 0.97265625 | test_loss: 2.234177827835083 | test_acc: 0.4545454545454546\n",
            "train_loss: 0.12855900824069977 | train_acc: 0.97265625 | test_loss: 2.087867021560669 | test_acc: 0.4744318181818182\n",
            "train_loss: 0.09748046845197678 | train_acc: 0.98046875 | test_loss: 2.073469400405884 | test_acc: 0.4744318181818182\n",
            "train_loss: 0.08335542678833008 | train_acc: 0.98046875 | test_loss: 2.232762336730957 | test_acc: 0.4744318181818182\n",
            "train_loss: 0.061877213418483734 | train_acc: 0.9921875 | test_loss: 2.3102314472198486 | test_acc: 0.48484848484848486\n",
            "train_loss: 0.05326811969280243 | train_acc: 0.99609375 | test_loss: 2.338390588760376 | test_acc: 0.48484848484848486\n",
            "train_loss: 0.04609223082661629 | train_acc: 0.99609375 | test_loss: 2.5479869842529297 | test_acc: 0.4744318181818182\n",
            "train_loss: 0.045768484473228455 | train_acc: 0.99609375 | test_loss: 2.5640532970428467 | test_acc: 0.46401515151515155\n",
            "train_loss: 0.03596299886703491 | train_acc: 0.99609375 | test_loss: 2.68560791015625 | test_acc: 0.46401515151515155\n",
            "train_loss: 0.03243907913565636 | train_acc: 0.99609375 | test_loss: 2.7715139389038086 | test_acc: 0.46401515151515155\n",
            "train_loss: 0.02516629919409752 | train_acc: 1.0 | test_loss: 2.839677095413208 | test_acc: 0.46401515151515155\n",
            "train_loss: 0.02001877874135971 | train_acc: 1.0 | test_loss: 2.86365008354187 | test_acc: 0.46401515151515155\n",
            "train_loss: 0.017786184325814247 | train_acc: 1.0 | test_loss: 3.0141613483428955 | test_acc: 0.43371212121212127\n",
            "train_loss: 0.017341796308755875 | train_acc: 1.0 | test_loss: 3.056302309036255 | test_acc: 0.4232954545454546\n",
            "train_loss: 0.014540033414959908 | train_acc: 1.0 | test_loss: 3.0831758975982666 | test_acc: 0.4232954545454546\n",
            "train_loss: 0.012967879883944988 | train_acc: 1.0 | test_loss: 3.272321939468384 | test_acc: 0.4232954545454546\n",
            "train_loss: 0.010942967608571053 | train_acc: 1.0 | test_loss: 3.2467048168182373 | test_acc: 0.43371212121212127\n",
            "train_loss: 0.010451899841427803 | train_acc: 1.0 | test_loss: 3.3034543991088867 | test_acc: 0.4232954545454546\n",
            "train_loss: 0.011474678292870522 | train_acc: 1.0 | test_loss: 3.4445903301239014 | test_acc: 0.4128787878787879\n",
            "train_loss: 0.009105986915528774 | train_acc: 1.0 | test_loss: 3.4248244762420654 | test_acc: 0.46401515151515155\n",
            "train_loss: 0.008201045915484428 | train_acc: 1.0 | test_loss: 3.4715194702148438 | test_acc: 0.46401515151515155\n",
            "train_loss: 0.006772276945412159 | train_acc: 1.0 | test_loss: 3.6556456089019775 | test_acc: 0.4128787878787879\n",
            "train_loss: 0.006179772783070803 | train_acc: 1.0 | test_loss: 3.590519666671753 | test_acc: 0.45359848484848486\n",
            "train_loss: 0.00542684830725193 | train_acc: 1.0 | test_loss: 3.716230630874634 | test_acc: 0.4128787878787879\n",
            "train_loss: 0.005113912280648947 | train_acc: 1.0 | test_loss: 3.775813341140747 | test_acc: 0.4128787878787879\n",
            "train_loss: 0.005780242849141359 | train_acc: 1.0 | test_loss: 3.7624435424804688 | test_acc: 0.4232954545454546\n",
            "train_loss: 0.005150704178959131 | train_acc: 1.0 | test_loss: 3.7773830890655518 | test_acc: 0.46401515151515155\n",
            "train_loss: 0.004070466849952936 | train_acc: 1.0 | test_loss: 3.914329767227173 | test_acc: 0.4128787878787879\n",
            "train_loss: 0.004113920032978058 | train_acc: 1.0 | test_loss: 3.8971755504608154 | test_acc: 0.43276515151515155\n",
            "train_loss: 0.005583581980317831 | train_acc: 1.0 | test_loss: 3.860327959060669 | test_acc: 0.46401515151515155\n",
            "train_loss: 0.005940993782132864 | train_acc: 1.0 | test_loss: 3.8934824466705322 | test_acc: 0.45359848484848486\n",
            "train_loss: 0.004162512253969908 | train_acc: 1.0 | test_loss: 4.152567386627197 | test_acc: 0.4128787878787879\n",
            "train_loss: 0.0037559333723038435 | train_acc: 1.0 | test_loss: 4.107945919036865 | test_acc: 0.4232954545454546\n",
            "train_loss: 0.0032048176508396864 | train_acc: 1.0 | test_loss: 4.01901388168335 | test_acc: 0.45359848484848486\n",
            "train_loss: 0.0046246787533164024 | train_acc: 1.0 | test_loss: 4.1574225425720215 | test_acc: 0.43276515151515155\n",
            "train_loss: 0.004820018541067839 | train_acc: 1.0 | test_loss: 4.278838634490967 | test_acc: 0.4431818181818182\n",
            "train_loss: 0.00492746289819479 | train_acc: 1.0 | test_loss: 4.155616760253906 | test_acc: 0.46401515151515155\n",
            "train_loss: 0.004799973219633102 | train_acc: 1.0 | test_loss: 4.2770609855651855 | test_acc: 0.4431818181818182\n",
            "train_loss: 0.002419490134343505 | train_acc: 1.0 | test_loss: 4.526381969451904 | test_acc: 0.4232954545454546\n",
            "train_loss: 0.002498533111065626 | train_acc: 1.0 | test_loss: 4.376622676849365 | test_acc: 0.4431818181818182\n",
            "train_loss: 0.0020883039105683565 | train_acc: 1.0 | test_loss: 4.26521635055542 | test_acc: 0.45359848484848486\n",
            "train_loss: 0.0018598402384668589 | train_acc: 1.0 | test_loss: 4.3878655433654785 | test_acc: 0.4431818181818182\n",
            "train_loss: 0.001631460851058364 | train_acc: 1.0 | test_loss: 4.484622478485107 | test_acc: 0.4431818181818182\n",
            "train_loss: 0.0014543309807777405 | train_acc: 1.0 | test_loss: 4.483031749725342 | test_acc: 0.4431818181818182\n",
            "train_loss: 0.0013895422453060746 | train_acc: 1.0 | test_loss: 4.4751505851745605 | test_acc: 0.4431818181818182\n",
            "train_loss: 0.0013316650874912739 | train_acc: 1.0 | test_loss: 4.501669883728027 | test_acc: 0.4431818181818182\n",
            "train_loss: 0.0012676413170993328 | train_acc: 1.0 | test_loss: 4.549300670623779 | test_acc: 0.4431818181818182\n",
            "train_loss: 0.0012334861094132066 | train_acc: 1.0 | test_loss: 4.559598445892334 | test_acc: 0.4431818181818182\n",
            "train_loss: 0.0011755619198083878 | train_acc: 1.0 | test_loss: 4.5778584480285645 | test_acc: 0.4431818181818182\n",
            "train_loss: 0.0011453150073066354 | train_acc: 1.0 | test_loss: 4.601823806762695 | test_acc: 0.4431818181818182\n"
          ]
        }
      ]
    },
    {
      "cell_type": "markdown",
      "source": [
        "## 6. Double the number of hidden units in your model and train it for 20 epochs, what happens to the results"
      ],
      "metadata": {
        "id": "HX3TQLdR-B_1"
      }
    },
    {
      "cell_type": "code",
      "source": [
        "model_1 = TinyVGG(input_shape=3,\n",
        "                  hidden_unit=20,\n",
        "                  output_shape=3)\n",
        "loss_fn = nn.CrossEntropyLoss()\n",
        "optimizer = torch.optim.Adam(model_1.parameters(), lr=0.001)\n",
        "\n",
        "epochs = 20\n",
        "for epoch in tqdm(range(epochs)):\n",
        "  train_loss, train_acc = train_step(model_1, train_dataloader, loss_fn, optimizer)\n",
        "  test_loss, test_acc = test_step(model_1, test_dataloader, loss_fn)\n",
        "  print(f\"train_loss: {train_loss} | train_acc: {train_acc} | test_loss: {test_loss} | test_acc: {test_acc}\")"
      ],
      "metadata": {
        "colab": {
          "base_uri": "https://localhost:8080/",
          "height": 416,
          "referenced_widgets": [
            "d7c5479b19c1470d80d299fd4e8afad9",
            "0ff420e8f73543a398f589d499cbd7a0",
            "02b0a55ec045457794f068b92e4d3323",
            "def36812796746a8ba10fa6c034b6aef",
            "1af1a09456f74dcd85d1b2771d6d4514",
            "564da74ec65440758cf6b18f486d1d85",
            "22f8bea2eeae4947aebc2e98eb597421",
            "7747223059c24af28034afbdfe535012",
            "65a091846744417c9c76a12d5cca9033",
            "206ea48cc4e94b9a887471a090fd94d8",
            "9456726224bf4ede876aae18827df357"
          ]
        },
        "id": "l2kKwuELFQsT",
        "outputId": "f9ba5d74-1679-4a24-b1ec-5fda78eec203"
      },
      "execution_count": 179,
      "outputs": [
        {
          "output_type": "display_data",
          "data": {
            "text/plain": [
              "  0%|          | 0/20 [00:00<?, ?it/s]"
            ],
            "application/vnd.jupyter.widget-view+json": {
              "version_major": 2,
              "version_minor": 0,
              "model_id": "d7c5479b19c1470d80d299fd4e8afad9"
            }
          },
          "metadata": {}
        },
        {
          "output_type": "stream",
          "name": "stdout",
          "text": [
            "train_loss: 1.1044626235961914 | train_acc: 0.2734375 | test_loss: 1.118932843208313 | test_acc: 0.3333333333333333\n",
            "train_loss: 1.0961706638336182 | train_acc: 0.3125 | test_loss: 1.1273237466812134 | test_acc: 0.19791666666666666\n",
            "train_loss: 1.1031577587127686 | train_acc: 0.3984375 | test_loss: 1.1361383199691772 | test_acc: 0.28125\n",
            "train_loss: 1.0355621576309204 | train_acc: 0.45703125 | test_loss: 1.0627583265304565 | test_acc: 0.3418560606060606\n",
            "train_loss: 0.9092757701873779 | train_acc: 0.6171875 | test_loss: 1.029044508934021 | test_acc: 0.5445075757575758\n",
            "train_loss: 0.9052215814590454 | train_acc: 0.6640625 | test_loss: 1.004571795463562 | test_acc: 0.4744318181818182\n",
            "train_loss: 0.7711079120635986 | train_acc: 0.6640625 | test_loss: 0.9972259402275085 | test_acc: 0.4943181818181818\n",
            "train_loss: 0.8564611077308655 | train_acc: 0.5703125 | test_loss: 1.0334872007369995 | test_acc: 0.48390151515151514\n",
            "train_loss: 0.7873930931091309 | train_acc: 0.703125 | test_loss: 0.9704675078392029 | test_acc: 0.5142045454545454\n",
            "train_loss: 0.7689564824104309 | train_acc: 0.7109375 | test_loss: 1.0573514699935913 | test_acc: 0.524621212121212\n",
            "train_loss: 0.7910664081573486 | train_acc: 0.71484375 | test_loss: 1.0075660943984985 | test_acc: 0.48484848484848486\n",
            "train_loss: 0.746755838394165 | train_acc: 0.71875 | test_loss: 1.0983060598373413 | test_acc: 0.4232954545454546\n",
            "train_loss: 0.7990810871124268 | train_acc: 0.59765625 | test_loss: 1.0518710613250732 | test_acc: 0.4232954545454546\n",
            "train_loss: 0.7525841593742371 | train_acc: 0.65234375 | test_loss: 1.1170998811721802 | test_acc: 0.31155303030303033\n",
            "train_loss: 0.6509809494018555 | train_acc: 0.75 | test_loss: 1.151422381401062 | test_acc: 0.3731060606060606\n",
            "train_loss: 0.7275896072387695 | train_acc: 0.60546875 | test_loss: 1.2561596632003784 | test_acc: 0.4128787878787879\n",
            "train_loss: 0.6881613731384277 | train_acc: 0.71875 | test_loss: 1.075669527053833 | test_acc: 0.4441287878787879\n",
            "train_loss: 1.1434614658355713 | train_acc: 0.5859375 | test_loss: 1.1215091943740845 | test_acc: 0.46401515151515155\n",
            "train_loss: 0.7318756580352783 | train_acc: 0.70703125 | test_loss: 1.148668885231018 | test_acc: 0.45359848484848486\n",
            "train_loss: 0.8055555820465088 | train_acc: 0.6484375 | test_loss: 1.2603460550308228 | test_acc: 0.3721590909090909\n"
          ]
        }
      ]
    },
    {
      "cell_type": "markdown",
      "source": [
        "## 7. Double the data you're using with your model and train it for 20 epochs, what happens to the results?"
      ],
      "metadata": {
        "id": "pkXdtuZrGhDr"
      }
    },
    {
      "cell_type": "code",
      "source": [
        "from pathlib import Path\n",
        "import requests\n",
        "from PIL import Image\n",
        "\n",
        "data_path = Path(\"data2/\")\n",
        "image_path = data_path / \"pizza_steak_sushi_20_percent\"\n",
        "\n",
        "if image_path.is_dir():\n",
        "  print(f\"making directory\")\n",
        "else:\n",
        "  image_path.mkdir(parents=True, exist_ok=True)\n",
        "\n",
        "with open(data_path / \"pizza_steak_sushi_20_percent.zip\", \"wb\") as f:\n",
        "  request = requests.get(\"https://github.com/mrdbourke/pytorch-deep-learning/raw/main/data/pizza_steak_sushi_20_percent.zip\")\n",
        "  f.write(request.content)\n",
        "\n",
        "# unzip pizza, steak, sushi data\n",
        "with zipfile.ZipFile(data_path / \"pizza_steak_sushi_20_percent.zip\", \"r\") as zip_ref:\n",
        "  print(\"Unzipping pizza, steak and sushi data...\")\n",
        "  zip_ref.extractall(image_path)"
      ],
      "metadata": {
        "colab": {
          "base_uri": "https://localhost:8080/"
        },
        "id": "DdMMzWO3Girc",
        "outputId": "b3758844-4412-47ab-d826-b4baf9f2b0c7"
      },
      "execution_count": 186,
      "outputs": [
        {
          "output_type": "stream",
          "name": "stdout",
          "text": [
            "Unzipping pizza, steak and sushi data...\n"
          ]
        }
      ]
    },
    {
      "cell_type": "code",
      "source": [
        "train_dir2 = image_path / \"train\"\n",
        "test_dir2 = image_path / \"test\""
      ],
      "metadata": {
        "id": "GySDWinqJQNG"
      },
      "execution_count": 188,
      "outputs": []
    },
    {
      "cell_type": "code",
      "source": [
        "transform2 = transforms.Compose([\n",
        "    transforms.Resize((64, 64)),\n",
        "    transforms.ToTensor(),\n",
        "])\n",
        "train_data2 = datasets.ImageFolder(root=train_dir2,\n",
        "                                  transform=transform2,\n",
        "                                  target_transform=None)\n",
        "test_data2 = datasets.ImageFolder(root=test_dir2,\n",
        "                                 transform=transform2,\n",
        "                                 target_transform=None)\n",
        "\n",
        "BATCH_SIZE = 32\n",
        "NUM_WORKERS = os.cpu_count()\n",
        "train_dataloader2 = DataLoader(dataset=train_data2,\n",
        "                              batch_size=BATCH_SIZE,\n",
        "                              num_workers=0,\n",
        "                              shuffle=True)\n",
        "test_dataloader2 = DataLoader(dataset=test_data2,\n",
        "                              batch_size=BATCH_SIZE,\n",
        "                              num_workers=0,\n",
        "                              shuffle=False)\n",
        "train_dataloader, test_dataloader"
      ],
      "metadata": {
        "colab": {
          "base_uri": "https://localhost:8080/"
        },
        "id": "UVWue-0rJGO3",
        "outputId": "9d4eb744-3e3a-4fa0-e251-bf86cdc472e5"
      },
      "execution_count": 191,
      "outputs": [
        {
          "output_type": "execute_result",
          "data": {
            "text/plain": [
              "(<torch.utils.data.dataloader.DataLoader at 0x7deacda09c60>,\n",
              " <torch.utils.data.dataloader.DataLoader at 0x7deacda0ad70>)"
            ]
          },
          "metadata": {},
          "execution_count": 191
        }
      ]
    },
    {
      "cell_type": "code",
      "source": [
        "epochs = 20\n",
        "for epoch in tqdm(range(epochs)):\n",
        "  train_loss, train_acc = train_step(model_1, train_dataloader2, loss_fn, optimizer)\n",
        "  test_loss, test_acc = test_step(model_1, test_dataloader2, loss_fn)\n",
        "  print(f\"train_loss: {train_loss} | train_acc: {train_acc} | test_loss: {test_loss} | test_acc: {test_acc}\")"
      ],
      "metadata": {
        "colab": {
          "base_uri": "https://localhost:8080/",
          "height": 416,
          "referenced_widgets": [
            "52c5161b2ea544c58e6b68a5cdccb1a1",
            "ae74ee8316884a86a51aad0773ea2d1e",
            "7346d88d614040faa81b34618a5e1a3a",
            "60d7e29849c84619a413b5381f7f83c1",
            "19925fd4c9a44044bef3ce4083c9c365",
            "532ea386603f419f9758a8da18c1421d",
            "3fe1f5fde9b44c249e005c904c54f78d",
            "8c5e47ed20ae44708f86e40a12284ae5",
            "39ee624eea49475986f4f0862f56c920",
            "63709afc41f240f4a69846a870003ffa",
            "11409bd4807f4597bb495e32a19d60bd"
          ]
        },
        "id": "fwRx8WQ-Jgpq",
        "outputId": "93f88516-237e-477c-87fb-a73869609b06"
      },
      "execution_count": 192,
      "outputs": [
        {
          "output_type": "display_data",
          "data": {
            "text/plain": [
              "  0%|          | 0/20 [00:00<?, ?it/s]"
            ],
            "application/vnd.jupyter.widget-view+json": {
              "version_major": 2,
              "version_minor": 0,
              "model_id": "52c5161b2ea544c58e6b68a5cdccb1a1"
            }
          },
          "metadata": {}
        },
        {
          "output_type": "stream",
          "name": "stdout",
          "text": [
            "train_loss: 0.9111246466636658 | train_acc: 0.5625 | test_loss: 0.8858819007873535 | test_acc: 0.58125\n",
            "train_loss: 0.7900261282920837 | train_acc: 0.6645833253860474 | test_loss: 0.8793665170669556 | test_acc: 0.5761363636363637\n",
            "train_loss: 0.7489786744117737 | train_acc: 0.668749988079071 | test_loss: 0.9042043685913086 | test_acc: 0.5880681818181819\n",
            "train_loss: 0.7715374231338501 | train_acc: 0.6270833611488342 | test_loss: 0.9152082204818726 | test_acc: 0.5625\n",
            "train_loss: 0.7544751763343811 | train_acc: 0.6916666626930237 | test_loss: 0.899052619934082 | test_acc: 0.6011363636363637\n",
            "train_loss: 0.7025005221366882 | train_acc: 0.6812499761581421 | test_loss: 0.9964221715927124 | test_acc: 0.5460227272727273\n",
            "train_loss: 0.7661171555519104 | train_acc: 0.6916666626930237 | test_loss: 0.8938015103340149 | test_acc: 0.6039772727272728\n",
            "train_loss: 0.6266461610794067 | train_acc: 0.7354166507720947 | test_loss: 0.897269606590271 | test_acc: 0.5914772727272728\n",
            "train_loss: 0.6194701790809631 | train_acc: 0.7250000238418579 | test_loss: 0.9895293116569519 | test_acc: 0.5613636363636363\n",
            "train_loss: 0.6643826961517334 | train_acc: 0.7104166746139526 | test_loss: 0.9325586557388306 | test_acc: 0.5755681818181818\n",
            "train_loss: 0.6365834474563599 | train_acc: 0.7145833373069763 | test_loss: 0.9163874387741089 | test_acc: 0.6096590909090909\n",
            "train_loss: 0.5482819080352783 | train_acc: 0.7791666388511658 | test_loss: 0.9827281832695007 | test_acc: 0.5818181818181818\n",
            "train_loss: 0.4757426381111145 | train_acc: 0.8125 | test_loss: 1.0184584856033325 | test_acc: 0.5721590909090909\n",
            "train_loss: 0.4374796748161316 | train_acc: 0.8166666626930237 | test_loss: 1.0446596145629883 | test_acc: 0.553409090909091\n",
            "train_loss: 0.38959968090057373 | train_acc: 0.8520833253860474 | test_loss: 1.075790524482727 | test_acc: 0.5607954545454545\n",
            "train_loss: 0.40197989344596863 | train_acc: 0.8374999761581421 | test_loss: 1.3541736602783203 | test_acc: 0.5545454545454545\n",
            "train_loss: 0.4703803062438965 | train_acc: 0.8125 | test_loss: 1.1543995141983032 | test_acc: 0.5602272727272728\n",
            "train_loss: 0.42059579491615295 | train_acc: 0.8520833253860474 | test_loss: 1.3005950450897217 | test_acc: 0.5630681818181819\n",
            "train_loss: 0.42448434233665466 | train_acc: 0.8187500238418579 | test_loss: 1.2086446285247803 | test_acc: 0.5227272727272727\n",
            "train_loss: 0.3596239387989044 | train_acc: 0.8541666865348816 | test_loss: 1.2261087894439697 | test_acc: 0.5721590909090909\n"
          ]
        }
      ]
    },
    {
      "cell_type": "markdown",
      "source": [
        "## 8. Make a prediction on your own custom image of pizza/steak/sushi (you could even download one from the internet) with your trained model from exercise 7 and share your prediction."
      ],
      "metadata": {
        "id": "50DoUIbuJnQq"
      }
    },
    {
      "cell_type": "code",
      "source": [
        "custom_image = \"pizza_dad.jpeg\"\n",
        "with open(\"pizza_dad.jpeg\", \"wb\") as f:\n",
        "  request = requests.get(\"https://raw.githubusercontent.com/mrdbourke/pytorch-deep-learning/main/images/04-pizza-dad.jpeg\")\n",
        "  f.write(request.content)"
      ],
      "metadata": {
        "id": "BzwGlBf7Kri-"
      },
      "execution_count": 193,
      "outputs": []
    },
    {
      "cell_type": "code",
      "source": [
        "import torchvision\n",
        "img = torchvision.io.read_image(\"pizza_dad.jpeg\")\n",
        "transform3 = transforms.Compose([transforms.Resize((64,64))])\n",
        "img_transformed = transform3(img)\n",
        "img_transformed = img_transformed / 255."
      ],
      "metadata": {
        "colab": {
          "base_uri": "https://localhost:8080/"
        },
        "id": "GbfImt4BLAvj",
        "outputId": "f64e5695-3c69-4e14-98b7-f68c9df21955"
      },
      "execution_count": 212,
      "outputs": [
        {
          "output_type": "execute_result",
          "data": {
            "text/plain": [
              "torch.Size([3, 64, 64])"
            ]
          },
          "metadata": {},
          "execution_count": 212
        }
      ]
    },
    {
      "cell_type": "code",
      "source": [
        "class_names = train_data.classes\n",
        "\n",
        "model_1.eval()\n",
        "with torch.inference_mode():\n",
        "  pred_logits = model_1(img_transformed.unsqueeze(dim=0))\n",
        "  pred_label = torch.argmax(torch.softmax(pred_logits, dim=1), dim=1)\n",
        "\n",
        "plt.imshow(img_transformed.permute(1, 2, 0))\n",
        "plt.title(f\"pred_label: {class_names[pred_label]}\")\n",
        "plt.axis(\"off\")"
      ],
      "metadata": {
        "colab": {
          "base_uri": "https://localhost:8080/",
          "height": 445
        },
        "id": "ijy5mBoOLZ9e",
        "outputId": "a75ce960-abcb-4c3d-db8f-eeca64b6a558"
      },
      "execution_count": 217,
      "outputs": [
        {
          "output_type": "execute_result",
          "data": {
            "text/plain": [
              "(-0.5, 63.5, 63.5, -0.5)"
            ]
          },
          "metadata": {},
          "execution_count": 217
        },
        {
          "output_type": "display_data",
          "data": {
            "text/plain": [
              "<Figure size 640x480 with 1 Axes>"
            ],
            "image/png": "[encoded data removed]"
          },
          "metadata": {}
        }
      ]
    }
  ]
}