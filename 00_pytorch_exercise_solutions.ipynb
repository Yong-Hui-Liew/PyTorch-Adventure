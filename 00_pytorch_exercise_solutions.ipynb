{
  "nbformat": 4,
  "nbformat_minor": 0,
  "metadata": {
    "colab": {
      "provenance": [],
      "gpuType": "T4",
      "authorship_tag": "ABX9TyOzfdCG8FAV6Vwf+3bySpAG",
      "include_colab_link": true
    },
    "kernelspec": {
      "name": "python3",
      "display_name": "Python 3"
    },
    "language_info": {
      "name": "python"
    },
    "accelerator": "GPU"
  },
  "cells": [
    {
      "cell_type": "markdown",
      "metadata": {
        "id": "view-in-github",
        "colab_type": "text"
      },
      "source": [
        "<a href=\"https://colab.research.google.com/github/Yong-Hui-Liew/PyTorch-Adventure/blob/main/00_pytorch_exercise_solutions.ipynb\" target=\"_parent\"><img src=\"https://colab.research.google.com/assets/colab-badge.svg\" alt=\"Open In Colab\"/></a>"
      ]
    },
    {
      "cell_type": "markdown",
      "source": [
        "## Documentation reading\n",
        "A big part of deep learning (and learning to code in general) is getting familiar with the documentation of a certain framework you're using. We'll be using the PyTorch documentation a lot throughout the rest of this course. So I'd recommend spending 10-minutes reading the following (it's okay if you don't get some things for now, the focus is not yet full understanding, it's awareness). See the documentation on `torch.Tensor` and for `torch.cuda`.\n",
        "\n",
        "https://pytorch.org/docs/master/notes/cuda.html#cuda-semantics\n",
        "https://pytorch.org/docs/master/notes/cuda.html#cuda-semantics"
      ],
      "metadata": {
        "id": "6bHMQnZ0ZgXc"
      }
    },
    {
      "cell_type": "markdown",
      "source": [
        "## Create a random tensor with shape (7, 7)"
      ],
      "metadata": {
        "id": "yFlutOGgaZBB"
      }
    },
    {
      "cell_type": "code",
      "source": [
        "import torch\n",
        "tensor = torch.rand(7,7)\n",
        "tensor"
      ],
      "metadata": {
        "colab": {
          "base_uri": "https://localhost:8080/"
        },
        "id": "249nlosZacdX",
        "outputId": "8dca964e-19ce-4db8-8869-9f11ed2bc7ec"
      },
      "execution_count": 2,
      "outputs": [
        {
          "output_type": "execute_result",
          "data": {
            "text/plain": [
              "tensor([[0.7184, 0.5225, 0.3149, 0.3876, 0.6358, 0.9052, 0.9449],\n",
              "        [0.6455, 0.7202, 0.1182, 0.9389, 0.3083, 0.1467, 0.9998],\n",
              "        [0.1063, 0.7797, 0.8543, 0.9569, 0.8418, 0.7567, 0.3409],\n",
              "        [0.3606, 0.8115, 0.7256, 0.2246, 0.2505, 0.9370, 0.6343],\n",
              "        [0.4789, 0.5443, 0.9210, 0.5778, 0.6446, 0.4738, 0.9352],\n",
              "        [0.3556, 0.9014, 0.4891, 0.4140, 0.9761, 0.2529, 0.4539],\n",
              "        [0.1994, 0.6945, 0.2744, 0.0816, 0.9434, 0.0630, 0.0169]])"
            ]
          },
          "metadata": {},
          "execution_count": 2
        }
      ]
    },
    {
      "cell_type": "markdown",
      "source": [
        "## Perform a matrix multiplication on the tensor from 2 with another random tensor with shape (1, 7) (hint: you may have to transpose the second tensor)"
      ],
      "metadata": {
        "id": "LQcCoRW2ai3H"
      }
    },
    {
      "cell_type": "code",
      "source": [
        "tensor2 = torch.rand(1,7)\n",
        "tensor_mul = torch.matmul(tensor, tensor2.T)\n",
        "tensor_mul"
      ],
      "metadata": {
        "colab": {
          "base_uri": "https://localhost:8080/"
        },
        "id": "EbG-gmjxarSs",
        "outputId": "f4e227bd-013d-4b71-cd62-f190849a2239"
      },
      "execution_count": 3,
      "outputs": [
        {
          "output_type": "execute_result",
          "data": {
            "text/plain": [
              "tensor([[1.8695],\n",
              "        [1.8992],\n",
              "        [1.6359],\n",
              "        [1.8719],\n",
              "        [2.0993],\n",
              "        [1.6566],\n",
              "        [0.8668]])"
            ]
          },
          "metadata": {},
          "execution_count": 3
        }
      ]
    },
    {
      "cell_type": "markdown",
      "source": [
        "## Set the random seed to 0 and do exercises 2 & 3 over again"
      ],
      "metadata": {
        "id": "I0S4yQsoa1HU"
      }
    },
    {
      "cell_type": "code",
      "source": [
        "RANDOM_SEED = 0\n",
        "\n",
        "torch.manual_seed(RANDOM_SEED)\n",
        "tensor = torch.rand(7,7)\n",
        "\n",
        "torch.manual_seed(RANDOM_SEED)\n",
        "tensor2 = torch.rand(1,7)\n",
        "\n",
        "tensor_mul = torch.matmul(tensor, tensor2.T)\n",
        "tensor, tensor2, tensor_mul"
      ],
      "metadata": {
        "colab": {
          "base_uri": "https://localhost:8080/"
        },
        "id": "tn3x8_hTa6FG",
        "outputId": "2d8a288d-a8fd-4f2c-b3d6-05381150b68d"
      },
      "execution_count": 4,
      "outputs": [
        {
          "output_type": "execute_result",
          "data": {
            "text/plain": [
              "(tensor([[0.4963, 0.7682, 0.0885, 0.1320, 0.3074, 0.6341, 0.4901],\n",
              "         [0.8964, 0.4556, 0.6323, 0.3489, 0.4017, 0.0223, 0.1689],\n",
              "         [0.2939, 0.5185, 0.6977, 0.8000, 0.1610, 0.2823, 0.6816],\n",
              "         [0.9152, 0.3971, 0.8742, 0.4194, 0.5529, 0.9527, 0.0362],\n",
              "         [0.1852, 0.3734, 0.3051, 0.9320, 0.1759, 0.2698, 0.1507],\n",
              "         [0.0317, 0.2081, 0.9298, 0.7231, 0.7423, 0.5263, 0.2437],\n",
              "         [0.5846, 0.0332, 0.1387, 0.2422, 0.8155, 0.7932, 0.2783]]),\n",
              " tensor([[0.4963, 0.7682, 0.0885, 0.1320, 0.3074, 0.6341, 0.4901]]),\n",
              " tensor([[1.5985],\n",
              "         [1.1173],\n",
              "         [1.2741],\n",
              "         [1.6838],\n",
              "         [0.8279],\n",
              "         [1.0347],\n",
              "         [1.2498]]))"
            ]
          },
          "metadata": {},
          "execution_count": 4
        }
      ]
    },
    {
      "cell_type": "markdown",
      "source": [
        "## Speaking of random seeds, we saw how to set it with `torch.manual_seed()` but is there a GPU equivalent? (hint: you'll need to look into the documentation for `torch.cuda` for this one). If there is, set the GPU random seed to 1234"
      ],
      "metadata": {
        "id": "WYDtm7mObDdl"
      }
    },
    {
      "cell_type": "code",
      "source": [
        "torch.cuda.manual_seed(1234)"
      ],
      "metadata": {
        "id": "EjYtV0Vobji2"
      },
      "execution_count": 5,
      "outputs": []
    },
    {
      "cell_type": "markdown",
      "source": [
        "## Create two random tensors of shape (2, 3) and send them both to the GPU (you'll need access to a GPU for this). Set torch.manual_seed(1234) when creating the tensors (this doesn't have to be the GPU random seed)."
      ],
      "metadata": {
        "id": "k-NMV-Bkd1A9"
      }
    },
    {
      "cell_type": "code",
      "source": [
        "torch.manual_seed(1234)\n",
        "tensor_rand = torch.rand(2,3).to(\"cuda\")\n",
        "\n",
        "torch.manual_seed(1234)\n",
        "tensor_rand2 = torch.rand(2,3).to(\"cuda\")\n",
        "\n",
        "tensor_rand, tensor_rand2"
      ],
      "metadata": {
        "colab": {
          "base_uri": "https://localhost:8080/"
        },
        "id": "AGQHZglaeBF7",
        "outputId": "2156b556-cb7a-491e-c8bc-e5c788ec9070"
      },
      "execution_count": 10,
      "outputs": [
        {
          "output_type": "execute_result",
          "data": {
            "text/plain": [
              "(tensor([[0.0290, 0.4019, 0.2598],\n",
              "         [0.3666, 0.0583, 0.7006]], device='cuda:0'),\n",
              " tensor([[0.0290, 0.4019, 0.2598],\n",
              "         [0.3666, 0.0583, 0.7006]], device='cuda:0'))"
            ]
          },
          "metadata": {},
          "execution_count": 10
        }
      ]
    },
    {
      "cell_type": "markdown",
      "source": [
        "## Perform a matrix multiplication on the tensors you created in 6 (again, you may have to adjust the shapes of one of the tensors)"
      ],
      "metadata": {
        "id": "RigkL_kueMQb"
      }
    },
    {
      "cell_type": "code",
      "source": [
        "tensor_mul = torch.matmul(tensor_rand, tensor_rand2.T)\n",
        "tensor_mul"
      ],
      "metadata": {
        "colab": {
          "base_uri": "https://localhost:8080/"
        },
        "id": "oUTJrw_Ze5W0",
        "outputId": "4faa2fbd-a79d-4533-e444-0103f9a1bef2"
      },
      "execution_count": 12,
      "outputs": [
        {
          "output_type": "execute_result",
          "data": {
            "text/plain": [
              "tensor([[0.2299, 0.2161],\n",
              "        [0.2161, 0.6287]], device='cuda:0')"
            ]
          },
          "metadata": {},
          "execution_count": 12
        }
      ]
    },
    {
      "cell_type": "markdown",
      "source": [
        "## Find the maximum and minimum values of the output of 7"
      ],
      "metadata": {
        "id": "IoXMgorPe-yw"
      }
    },
    {
      "cell_type": "code",
      "source": [
        "print(tensor_mul.max())\n",
        "print(tensor_mul.min())"
      ],
      "metadata": {
        "colab": {
          "base_uri": "https://localhost:8080/"
        },
        "id": "7mo29dSGfHMI",
        "outputId": "51c74d1a-ad2f-4c4d-aa8b-945a7b0b7a6a"
      },
      "execution_count": 14,
      "outputs": [
        {
          "output_type": "stream",
          "name": "stdout",
          "text": [
            "tensor(0.6287, device='cuda:0')\n",
            "tensor(0.2161, device='cuda:0')\n"
          ]
        }
      ]
    },
    {
      "cell_type": "markdown",
      "source": [
        "## Find the maximum and minimum index values of the output of 7"
      ],
      "metadata": {
        "id": "MfdiML3sfZ-y"
      }
    },
    {
      "cell_type": "code",
      "source": [
        "print(tensor_mul.argmin())\n",
        "print(tensor_mul.argmax())"
      ],
      "metadata": {
        "colab": {
          "base_uri": "https://localhost:8080/"
        },
        "id": "qtetR3L0fj2T",
        "outputId": "4e818fce-6488-4f6c-9bd7-056946ff91e7"
      },
      "execution_count": 16,
      "outputs": [
        {
          "output_type": "stream",
          "name": "stdout",
          "text": [
            "tensor(1, device='cuda:0')\n",
            "tensor(3, device='cuda:0')\n"
          ]
        }
      ]
    },
    {
      "cell_type": "markdown",
      "source": [
        "## Make a random tensor with shape (1, 1, 1, 10) and then create a new tensor with all the 1 dimensions removed to be left with a tensor of shape (10). Set the seed to 7 when you create it and print out the first tensor and it's shape as well as the second tensor and it's shape"
      ],
      "metadata": {
        "id": "zn6kAl-4fmP8"
      }
    },
    {
      "cell_type": "code",
      "source": [
        "tensor_rand = torch.rand(1, 1, 1, 10)\n",
        "print(tensor_rand, tensor_rand.shape)\n",
        "torch.manual_seed(7)\n",
        "tensor_squeezed = tensor_rand.squeeze()\n",
        "print(tensor_squeezed, tensor_squeezed.shape)"
      ],
      "metadata": {
        "colab": {
          "base_uri": "https://localhost:8080/"
        },
        "id": "nb9q3iQtftdo",
        "outputId": "a421b5ef-ffd9-45f5-e026-d3c178247800"
      },
      "execution_count": 25,
      "outputs": [
        {
          "output_type": "stream",
          "name": "stdout",
          "text": [
            "tensor([[[[0.5349, 0.1988, 0.6592, 0.6569, 0.2328, 0.4251, 0.2071, 0.6297,\n",
            "           0.3653, 0.8513]]]]) torch.Size([1, 1, 1, 10])\n",
            "tensor([0.5349, 0.1988, 0.6592, 0.6569, 0.2328, 0.4251, 0.2071, 0.6297, 0.3653,\n",
            "        0.8513]) torch.Size([10])\n"
          ]
        }
      ]
    }
  ]
}